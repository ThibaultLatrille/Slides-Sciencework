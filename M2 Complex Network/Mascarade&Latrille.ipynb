{
 "cells": [
  {
   "cell_type": "markdown",
   "metadata": {},
   "source": [
    "# Problem Set One, CR15 ENS de Lyon.\n",
    "## Course authorities : Karsai / Crespelle / Unicomb\n",
    "\n",
    "### Students : Mascarade Pierre, Latrille Thibault\n",
    "\n",
    "Runs on python 2.x"
   ]
  },
  {
   "cell_type": "code",
   "execution_count": 1,
   "metadata": {
    "collapsed": true
   },
   "outputs": [],
   "source": [
    "\"\"\" IXXI graph library \"\"\"\n",
    "from random import random\n",
    "from random import sample\n",
    "from collections import deque\n",
    "import numpy as np"
   ]
  },
  {
   "cell_type": "code",
   "execution_count": 2,
   "metadata": {
    "collapsed": true
   },
   "outputs": [],
   "source": [
    "# =========================\n",
    "#       GRAPH CLASS\n",
    "# =========================\n",
    "\n",
    "\n",
    "class Graph(object):\n",
    "    def __init__(self, graph_dict={}):\n",
    "        \"\"\" initializes a graph object \"\"\"\n",
    "        self.__graph_dict = graph_dict\n",
    "\n",
    "    def vertices(self):\n",
    "        \"\"\" returns the vertices of a graph \"\"\"\n",
    "        return sorted(list(self.__graph_dict.keys()))\n",
    "\n",
    "    def edges(self):\n",
    "        \"\"\" returns the edges of a graph \"\"\"\n",
    "        return self.__generate_edges()\n",
    "\n",
    "    def __len__(self):\n",
    "        return len(self.edges())\n",
    "\n",
    "    def add_vertex(self, vertex):\n",
    "        \"\"\" If the vertex \"vertex\" is not in\n",
    "        self.__graph_dict, a key \"vertex\" with an empty\n",
    "        list as a value is added to the dictionary.\n",
    "        Otherwise nothing has to be done.\n",
    "        \"\"\"\n",
    "        if vertex not in self.vertices():\n",
    "            self.__graph_dict[vertex] = []\n",
    "\n",
    "    def add_edge(self, edge):\n",
    "        \"\"\" It the edge is not in self.__graph_dict,\n",
    "        the vertices of the edge are added to each other keys\n",
    "        The function assumes that edge is of type set, tuple or list;\n",
    "        (no multiple edges)\n",
    "        \"\"\"\n",
    "        if edge[1] not in self.__graph_dict[edge[0]]:\n",
    "            self.__graph_dict[edge[0]].append(edge[1])\n",
    "            self.__graph_dict[edge[1]].append(edge[0])\n",
    "\n",
    "    def __generate_edges(self):\n",
    "        \"\"\" A static method generating the edges of the\n",
    "        graph \"graph\". Edges are represented as sets\n",
    "        two vertices (no loop)\n",
    "        \"\"\"\n",
    "        edges = []\n",
    "        for vertex_in in self.vertices():\n",
    "            for vertex_out in self.__graph_dict[vertex_in]:\n",
    "                if vertex_in < vertex_out:\n",
    "                    edges.append((vertex_in, vertex_out))\n",
    "        return edges\n",
    "\n",
    "    def vertex_degree(self):\n",
    "        \"\"\" returns a list of sets containing the\n",
    "        name and degree of each vertex of a graph \"\"\"\n",
    "        return [(vertex, len(self.__graph_dict[vertex])) for vertex in self.vertices()]\n",
    "\n",
    "    def degree_sequence(self):\n",
    "        \"\"\" returns as a non-increasing list sequence of the vertex degrees of a graph \"\"\"\n",
    "        return [degree for _, degree in sorted(self.vertex_degree(), key=lambda x: x[1], reverse=True)]\n",
    "\n",
    "    def erdos_gallai(self, sequence):\n",
    "        \"\"\" for a given degree sequence check if it can be\n",
    "         realised by a simple graph\n",
    "         returns a boolean\"\"\"\n",
    "        n = len(sequence)\n",
    "        if sum(sequence) % 2 == 1:\n",
    "            return False\n",
    "        for k in range(1, n + 1):\n",
    "            if not sum(sequence[:k]) <= k * (k - 1) + sum([min(d, k) for d in sequence[k:n]]):\n",
    "                return False\n",
    "        return True\n",
    "\n",
    "    def find_isolated_vertices(self):\n",
    "        \"\"\" returns the list of zero-degree vertices of a graph \"\"\"\n",
    "        return [vertex for vertex, degree in self.vertex_degree() if degree == 0]\n",
    "\n",
    "    def density(self):\n",
    "        \"\"\" returns the density of a graph \"\"\"\n",
    "        nbr_edges, nbr_vertices = float(len(self.edges())), float(len(self.vertices()))\n",
    "        return 2 * nbr_edges / (nbr_vertices * (nbr_vertices - 1))\n",
    "\n",
    "    def adjacency_matrix(self):\n",
    "        \"\"\" returns the ajacency matrix of a graph\n",
    "         in the form of a numpy array\"\"\"\n",
    "        edges = self.edges()\n",
    "        n = len(self.vertices())\n",
    "        adj_matrix = [[0 for _ in range(n)] for _ in range(n)]\n",
    "        for i in range(n):\n",
    "            for j in range(n):\n",
    "                if i != j and (self.vertices()[i], self.vertices()[j]) in edges:\n",
    "                    adj_matrix[i][j], adj_matrix[j][i] = 1, 1\n",
    "        return np.array(adj_matrix)\n",
    "\n",
    "    def global_clustering_coeff(self):\n",
    "        \"\"\" returns the global clustering coefficient of a graph \"\"\"\n",
    "        adj_mtrx = self.adjacency_matrix()\n",
    "        path_length_two = np.linalg.matrix_power(adj_mtrx, 2)\n",
    "        closed_triple_mtrx = np.multiply(adj_mtrx, path_length_two)\n",
    "        n = len(self.vertices())\n",
    "        nbr_closed_triple, nbr_all_triple = 0.0, 0.0  # float because of division\n",
    "        nbr_closed_triple += sum(closed_triple_mtrx[i][e] for i in range(n) for e in range(n) if i != e)\n",
    "        nbr_all_triple += sum(path_length_two[i][e] for i in range(n) for e in range(n) if i != e)\n",
    "        # instead of not computing the diagonal\n",
    "        # we could have substract np.trace(path_length_two) from nbr_triple\n",
    "        return nbr_closed_triple / nbr_all_triple if nbr_all_triple != 0 else 0  # avoid 0 division\n",
    "\n",
    "    def shortest_path(self, a, b):\n",
    "        \"\"\" returns the shortest path distance between two given vertices a, b\"\"\"\n",
    "        queue = deque()\n",
    "        distance = {a: 0}\n",
    "        queue.append(a)\n",
    "        while len(queue) > 0:\n",
    "            current = queue.popleft()\n",
    "            for vertex in self.__graph_dict[current]:\n",
    "                if vertex == b:\n",
    "                    return distance[current] + 1\n",
    "                if vertex not in distance:\n",
    "                    queue.append(vertex)\n",
    "                    distance[vertex] = distance[current] + 1\n",
    "        return float(\"inf\")\n",
    "\n",
    "    def connected_components(self):\n",
    "        \"\"\" returns a list of sets composed of two elements: the vertices list and the size\n",
    "        of each connected components of a graph \"\"\"\n",
    "        components = []\n",
    "        set_vertices = set(self.vertices())\n",
    "        queue = deque()\n",
    "        while len(set_vertices) > 0:\n",
    "            init = set_vertices.pop()\n",
    "            visited = {init: True}\n",
    "            queue.append(init)\n",
    "            while len(queue) > 0:\n",
    "                current = queue.popleft()\n",
    "                for vertex in self.__graph_dict[current]:\n",
    "                    if vertex not in visited:\n",
    "                        queue.append(vertex)\n",
    "                    visited[vertex] = True\n",
    "            set_vertices -= set(visited.keys())\n",
    "            components.append(list(visited.keys()))\n",
    "        return zip(components, map(lambda e: len(e), components))\n",
    "\n",
    "    def connected_component_elements(self):\n",
    "        \"\"\" returns a list of the vertices list of each connected components of a graph \"\"\"\n",
    "        return map(lambda x: x[0], self.connected_components())\n",
    "\n",
    "    def component_diameter(self, component):\n",
    "        \"\"\" returns the diameter of a given connected component element of a graph\"\"\"\n",
    "        diameter = 0\n",
    "        for init in component:\n",
    "            queue = deque()\n",
    "            distance = {init: 0}\n",
    "            queue.append(init)\n",
    "            while len(queue) > 0:\n",
    "                current = queue.popleft()\n",
    "                for vertex in self.__graph_dict[current]:\n",
    "                    if vertex not in distance:\n",
    "                        queue.append(vertex)\n",
    "                        distance[vertex] = distance[current] + 1\n",
    "            diameter = max((diameter, max(distance.values())))\n",
    "\n",
    "        return diameter\n",
    "\n",
    "    def forest_diameters(self):\n",
    "        \"\"\" returns the list of the diameter of each connected components of a graph \"\"\"\n",
    "        return [self.component_diameter(component) for component in self.connected_component_elements()]\n",
    "\n",
    "    def biggest_component_diameter(self):\n",
    "        \"\"\" returns the diameter of the biggest connected component of a graph \"\"\"\n",
    "        return self.component_diameter(max(self.connected_component_elements(), key=len))\n",
    "\n",
    "    def component_spanning_tree(self, component):\n",
    "        \"\"\" returns the spanning tree of a given connected component of a graph \"\"\"\n",
    "        spanning_tree = Graph({})\n",
    "        queue = deque()\n",
    "        spanning_tree.add_vertex(component.pop())\n",
    "        queue.extend(spanning_tree.vertices())\n",
    "        while len(queue) > 0:\n",
    "            current = queue.popleft()\n",
    "            for vertex in self.__graph_dict[current]:\n",
    "                if vertex not in spanning_tree.vertices():\n",
    "                    queue.append(vertex)\n",
    "                    spanning_tree.add_vertex(vertex)\n",
    "                    spanning_tree.add_edge((current, vertex))\n",
    "        return spanning_tree\n",
    "\n",
    "    def spanning_forest(self):\n",
    "        \"\"\" returns the list of spanning trees of each connected component of a graph \"\"\"\n",
    "        return [self.component_spanning_tree(component) for component in self.connected_component_elements()]\n",
    "\n",
    "    def biggest_component_spanning_tree(self):\n",
    "        \"\"\" returns the spanning tree of a the biggest connected component of a graph \"\"\"\n",
    "        return self.component_spanning_tree(max(self.connected_component_elements(), key=lambda c: len(c)))\n",
    "\n",
    "    def __str__(self):\n",
    "        \"\"\" A better way for printing a graph \"\"\"\n",
    "        res = \"vertices: \"\n",
    "        for k in self.__graph_dict:\n",
    "            res += str(k) + \" \"\n",
    "            res += \"\\nedges: \"\n",
    "        for edge in self.__generate_edges():\n",
    "            res += str(edge) + \" \"\n",
    "        return res\n"
   ]
  },
  {
   "cell_type": "markdown",
   "metadata": {},
   "source": [
    "## 1.1 Simple methods to get the ball rolling"
   ]
  },
  {
   "cell_type": "code",
   "execution_count": 3,
   "metadata": {
    "collapsed": false
   },
   "outputs": [
    {
     "name": "stdout",
     "output_type": "stream",
     "text": [
      "\n",
      " Vertices of graph G:\n",
      "['a', 'b', 'c', 'd', 'e', 'f', 'g', 'h']\n",
      "\n",
      " Edges of graph G:\n",
      "[('a', 'c'), ('a', 'd'), ('a', 'g'), ('b', 'c'), ('b', 'f'), ('c', 'd'), ('c', 'f'), ('d', 'e'), ('d', 'g')]\n"
     ]
    }
   ],
   "source": [
    "G = {\n",
    "    \"a\": [\"c\", \"d\", \"g\"],\n",
    "    \"b\": [\"c\", \"f\"],\n",
    "    \"c\": [\"a\", \"b\", \"d\", \"f\"],\n",
    "    \"d\": [\"a\", \"c\", \"e\", \"g\"],\n",
    "    \"e\": [\"d\"],\n",
    "    \"f\": [\"b\", \"c\"],\n",
    "    \"g\": [\"a\", \"d\"]\n",
    "}\n",
    "graph = Graph(G)\n",
    "graph.add_vertex(\"h\")\n",
    "print(\"\\n Vertices of graph G:\")\n",
    "print(graph.vertices())\n",
    "print(\"\\n Edges of graph G:\")\n",
    "print(graph.edges())"
   ]
  },
  {
   "cell_type": "markdown",
   "metadata": {},
   "source": [
    "## 2.1 Degree and isolated vertices"
   ]
  },
  {
   "cell_type": "code",
   "execution_count": 4,
   "metadata": {
    "collapsed": false,
    "scrolled": true
   },
   "outputs": [
    {
     "name": "stdout",
     "output_type": "stream",
     "text": [
      "\n",
      " Degrees of graph G:\n",
      "[('a', 3), ('b', 2), ('c', 4), ('d', 4), ('e', 1), ('f', 2), ('g', 2), ('h', 0)]\n",
      "\n",
      " Isolated vertices of graph G:\n",
      "['h']\n"
     ]
    }
   ],
   "source": [
    "print(\"\\n Degrees of graph G:\")\n",
    "print(graph.vertex_degree())\n",
    "print(\"\\n Isolated vertices of graph G:\")\n",
    "print(graph.find_isolated_vertices())"
   ]
  },
  {
   "cell_type": "markdown",
   "metadata": {},
   "source": [
    "## 2.2 Density calculation"
   ]
  },
  {
   "cell_type": "code",
   "execution_count": 5,
   "metadata": {
    "collapsed": false
   },
   "outputs": [
    {
     "name": "stdout",
     "output_type": "stream",
     "text": [
      "\n",
      " Density of graph G:\n",
      "0.321428571429\n",
      "\n",
      " Density of an empty graph:\n",
      "0.0\n",
      "\n",
      " Density of a complete graph:\n",
      "1.0\n",
      "\n",
      " Density of a random graph R (p=0.05)\n",
      "0.0391836734694\n"
     ]
    }
   ],
   "source": [
    "def random_graph(n, p):\n",
    "    \"\"\" create and returns a Erdos-Renyi\n",
    "    G_n,p random graph -\n",
    "    where n is the number of vertices\n",
    "    and p the probability of puting\n",
    "    an edge between each two vertices\n",
    "     \"\"\"\n",
    "    graph = Graph({})\n",
    "    for vertex in range(n):\n",
    "        graph.add_vertex(vertex)\n",
    "    for in_vertex in range(n):\n",
    "        for out_vertex in range(n):\n",
    "            if in_vertex < out_vertex:\n",
    "                if random() < p:\n",
    "                    graph.add_edge((in_vertex, out_vertex))\n",
    "    return graph\n",
    "\n",
    "print(\"\\n Density of graph G:\")\n",
    "print(graph.density())\n",
    "\n",
    "print(\"\\n Density of an empty graph:\")\n",
    "empty_graph = random_graph(50, 0.)\n",
    "print(empty_graph.density())\n",
    "\n",
    "print(\"\\n Density of a complete graph:\")\n",
    "complete_graph = random_graph(50, 1.)\n",
    "print(complete_graph.density())\n",
    "\n",
    "print(\"\\n Density of a random graph R (p=0.05)\")\n",
    "random_graph = random_graph(50, 0.05)\n",
    "print(random_graph.density())"
   ]
  },
  {
   "cell_type": "markdown",
   "metadata": {},
   "source": [
    "## 2.3 Degree sequence"
   ]
  },
  {
   "cell_type": "code",
   "execution_count": 6,
   "metadata": {
    "collapsed": false
   },
   "outputs": [
    {
     "name": "stdout",
     "output_type": "stream",
     "text": [
      "\n",
      " Degree sequence of graph G:\n",
      "[4, 4, 3, 2, 2, 2, 1, 0]\n",
      "\n",
      " Degree sequence of an empty graph:\n",
      "[0, 0, 0, 0, 0, 0, 0, 0, 0, 0, 0, 0, 0, 0, 0, 0, 0, 0, 0, 0, 0, 0, 0, 0, 0, 0, 0, 0, 0, 0, 0, 0, 0, 0, 0, 0, 0, 0, 0, 0, 0, 0, 0, 0, 0, 0, 0, 0, 0, 0]\n",
      "\n",
      " Degree sequence of a complete graph:\n",
      "[49, 49, 49, 49, 49, 49, 49, 49, 49, 49, 49, 49, 49, 49, 49, 49, 49, 49, 49, 49, 49, 49, 49, 49, 49, 49, 49, 49, 49, 49, 49, 49, 49, 49, 49, 49, 49, 49, 49, 49, 49, 49, 49, 49, 49, 49, 49, 49, 49, 49]\n",
      "\n",
      " Degree sequence of random graph R (p=0.05):\n",
      "[5, 5, 4, 4, 4, 3, 3, 3, 3, 3, 3, 3, 3, 2, 2, 2, 2, 2, 2, 2, 2, 2, 2, 2, 2, 2, 2, 2, 2, 2, 2, 2, 1, 1, 1, 1, 1, 1, 1, 1, 1, 1, 1, 1, 0, 0, 0, 0, 0, 0]\n"
     ]
    }
   ],
   "source": [
    "print(\"\\n Degree sequence of graph G:\")\n",
    "print(graph.degree_sequence())\n",
    "print(\"\\n Degree sequence of an empty graph:\")\n",
    "print(empty_graph.degree_sequence())\n",
    "print(\"\\n Degree sequence of a complete graph:\")\n",
    "print(complete_graph.degree_sequence())\n",
    "print(\"\\n Degree sequence of random graph R (p=0.05):\")\n",
    "print(random_graph.degree_sequence())"
   ]
  },
  {
   "cell_type": "markdown",
   "metadata": {},
   "source": [
    "## 2.4 Erdös-Gallai theorem"
   ]
  },
  {
   "cell_type": "code",
   "execution_count": 7,
   "metadata": {
    "collapsed": false
   },
   "outputs": [
    {
     "name": "stdout",
     "output_type": "stream",
     "text": [
      "\n",
      " Erdos-Gallai test of graph G:\n",
      "True\n",
      "\n",
      " Erdos-Gallai test of an empty graph:\n",
      "True\n",
      "\n",
      " Erdos-Gallai test of a complete graph:\n",
      "True\n",
      "\n",
      " Erdos-Gallai test of random graph R (p=0.05):\n",
      "True\n"
     ]
    }
   ],
   "source": [
    "print(\"\\n Erdos-Gallai test of graph G:\")\n",
    "print(graph.erdos_gallai(graph.degree_sequence()))\n",
    "print(\"\\n Erdos-Gallai test of an empty graph:\")\n",
    "print(empty_graph.erdos_gallai(empty_graph.degree_sequence()))\n",
    "print(\"\\n Erdos-Gallai test of a complete graph:\")\n",
    "print(complete_graph.erdos_gallai(complete_graph.degree_sequence()))\n",
    "print(\"\\n Erdos-Gallai test of random graph R (p=0.05):\")\n",
    "print(random_graph.erdos_gallai(random_graph.degree_sequence()))"
   ]
  },
  {
   "cell_type": "markdown",
   "metadata": {},
   "source": [
    "## 2.5 Clustering coefficient"
   ]
  },
  {
   "cell_type": "code",
   "execution_count": 8,
   "metadata": {
    "collapsed": false
   },
   "outputs": [
    {
     "name": "stdout",
     "output_type": "stream",
     "text": [
      "\n",
      " Global clustering coefficient of graph G:\n",
      "0.5\n",
      "\n",
      " Global clustering coefficient of an empty graph:\n",
      "0\n",
      "\n",
      " Global clustering coefficient of a complete graph:\n",
      "1.0\n",
      "\n",
      " Global clustering coefficient of random graph R (p=0.05):\n",
      "0.111111111111\n"
     ]
    }
   ],
   "source": [
    "print(\"\\n Global clustering coefficient of graph G:\")\n",
    "print(graph.global_clustering_coeff())\n",
    "print(\"\\n Global clustering coefficient of an empty graph:\")\n",
    "print(empty_graph.global_clustering_coeff())\n",
    "print(\"\\n Global clustering coefficient of a complete graph:\")\n",
    "print(complete_graph.global_clustering_coeff())\n",
    "print(\"\\n Global clustering coefficient of random graph R (p=0.05):\")\n",
    "print(random_graph.global_clustering_coeff())"
   ]
  },
  {
   "cell_type": "markdown",
   "metadata": {},
   "source": [
    "## 3.1 Connected components"
   ]
  },
  {
   "cell_type": "code",
   "execution_count": 9,
   "metadata": {
    "collapsed": false
   },
   "outputs": [
    {
     "name": "stdout",
     "output_type": "stream",
     "text": [
      "\n",
      " List of vertices and respective size for each connected components of graph G:\n",
      "[(['a', 'c', 'b', 'e', 'd', 'g', 'f'], 7), (['h'], 1)]\n",
      "\n",
      " Number of connected components of random graph G:\n",
      "2\n",
      "\n",
      " \n",
      " List of vertices and respective size for each connected components of random graph R (p=0.05):\n",
      "[([0], 1), ([1, 4, 5, 6, 7, 8, 9, 10, 12, 13, 14, 15, 16, 17, 18, 19, 21, 22, 24, 25, 26, 27, 28, 29, 30, 31, 34, 35, 36, 37, 38, 39, 40, 42, 44, 45, 46, 48, 49], 39), ([32, 43, 2, 11, 23], 5), ([3], 1), ([20], 1), ([33], 1), ([41], 1), ([47], 1)]\n",
      "\n",
      " Number of connected components of random graph R (p=0.05):\n",
      "8\n"
     ]
    }
   ],
   "source": [
    "print(\"\\n List of vertices and respective size for each connected components of graph G:\")\n",
    "g_connected_components_size = graph.connected_components()\n",
    "print(g_connected_components_size)\n",
    "print(\"\\n Number of connected components of random graph G:\")\n",
    "print(len(g_connected_components_size))\n",
    "\n",
    "print(\"\\n \\n List of vertices and respective size for each connected components of random graph R (p=0.05):\")\n",
    "rg_connected_components_size = random_graph.connected_components()\n",
    "print(rg_connected_components_size)\n",
    "print(\"\\n Number of connected components of random graph R (p=0.05):\")\n",
    "print(len(rg_connected_components_size))"
   ]
  },
  {
   "cell_type": "markdown",
   "metadata": {},
   "source": [
    "## 3.2 Shortest path"
   ]
  },
  {
   "cell_type": "code",
   "execution_count": 10,
   "metadata": {
    "collapsed": false
   },
   "outputs": [
    {
     "name": "stdout",
     "output_type": "stream",
     "text": [
      "\n",
      " Shortest path distance between two random vertices (c and b) in the same component of graph G:\n",
      "1\n",
      "\n",
      " Shortest path distance between two random vertices (e and h) in the different components of random graph R (p=0.05):\n",
      "inf\n",
      "\n",
      " Shortest path distance between two random vertices (32 and 43) in the same component of random graph R (p=0.05):\n",
      "1\n",
      "\n",
      " Shortest path distance between two random vertices (41 and 33) in the different components of random graph R (p=0.05):\n",
      "inf\n"
     ]
    }
   ],
   "source": [
    "g_connected_components = graph.connected_component_elements()\n",
    "g_vertices = sample(sample([c for c in g_connected_components if len(c) > 1], 1)[0], 2)\n",
    "print(\"\\n Shortest path distance between two random vertices \"\n",
    "      \"({} and {}) in the same component of graph G:\".format(*g_vertices))\n",
    "print(graph.shortest_path(*g_vertices))\n",
    "g_vertices = [sample(pop, 1)[0] for pop in sample(g_connected_components, 2)]\n",
    "print(\"\\n Shortest path distance between two random vertices \"\n",
    "    \"({} and {}) in the different components of random graph R (p=0.05):\".format(*g_vertices))\n",
    "print(graph.shortest_path(*g_vertices))\n",
    "\n",
    "rg_connected_components = random_graph.connected_component_elements()\n",
    "components_not_single = [c for c in rg_connected_components if len(c) > 1]\n",
    "if len(components_not_single) > 0:\n",
    "    vertices = sample(sample(components_not_single, 1)[0], 2)\n",
    "    print(\"\\n Shortest path distance between two random vertices \"\n",
    "          \"({} and {}) in the same component of random graph R (p=0.05):\".format(*vertices))\n",
    "    print(random_graph.shortest_path(*vertices))\n",
    "if len(rg_connected_components) > 1:\n",
    "    vertices = [sample(pop, 1)[0] for pop in sample(rg_connected_components, 2)]\n",
    "    print(\"\\n Shortest path distance between two random vertices \"\n",
    "          \"({} and {}) in the different components of random graph R (p=0.05):\".format(*vertices))\n",
    "    print(random_graph.shortest_path(*vertices))"
   ]
  },
  {
   "cell_type": "markdown",
   "metadata": {},
   "source": [
    "## 3.3 Diameter"
   ]
  },
  {
   "cell_type": "code",
   "execution_count": 11,
   "metadata": {
    "collapsed": false
   },
   "outputs": [
    {
     "name": "stdout",
     "output_type": "stream",
     "text": [
      "\n",
      " Diameter for each component of graph G:\n",
      "[3, 0]\n",
      "\n",
      " Diameter of the biggest component of graph G:\n",
      "3\n",
      "\n",
      " \n",
      " Diameter for each component of random graph R (p=0.05):\n",
      "[0, 13, 4, 0, 0, 0, 0, 0]\n",
      "\n",
      " Diameter of the biggest component of random graph R (p=0.05):\n",
      "13\n"
     ]
    }
   ],
   "source": [
    "print(\"\\n Diameter for each component of graph G:\")\n",
    "print(graph.forest_diameters())\n",
    "print(\"\\n Diameter of the biggest component of graph G:\")\n",
    "print(graph.biggest_component_diameter())\n",
    "\n",
    "print(\"\\n \\n Diameter for each component of random graph R (p=0.05):\")\n",
    "print(random_graph.forest_diameters())\n",
    "print(\"\\n Diameter of the biggest component of random graph R (p=0.05):\")\n",
    "print(random_graph.biggest_component_diameter())"
   ]
  },
  {
   "cell_type": "markdown",
   "metadata": {},
   "source": [
    "## 3.4 Spanning tree"
   ]
  },
  {
   "cell_type": "code",
   "execution_count": 12,
   "metadata": {
    "collapsed": false
   },
   "outputs": [
    {
     "name": "stdout",
     "output_type": "stream",
     "text": [
      "\n",
      " List of edges of the spanning tree, for each component of graph G:\n",
      "[[('a', 'c'), ('a', 'g'), ('b', 'f'), ('c', 'f'), ('c', 'd'), ('d', 'e')], []]\n",
      "\n",
      " Number of edges of the spanning tree, for each component of graph G:\n",
      "[6, 0]\n",
      "\n",
      " Number of vertices for each component of graph G:\n",
      "[7, 1]\n",
      "\n",
      " \n",
      " List of edges of the spanning tree, for each component of random graph R (p=0.05):\n",
      "[[], [(1, 42), (4, 15), (4, 13), (5, 29), (6, 40), (6, 46), (7, 36), (7, 16), (8, 9), (9, 18), (10, 31), (10, 17), (12, 34), (12, 26), (13, 48), (14, 37), (15, 29), (16, 42), (17, 18), (19, 31), (19, 35), (21, 28), (22, 30), (22, 34), (24, 31), (25, 30), (25, 36), (25, 39), (27, 49), (28, 37), (28, 31), (29, 36), (30, 49), (35, 44), (36, 37), (37, 45), (38, 45), (39, 40)], [(2, 23), (2, 11), (23, 32), (32, 43)], [], [], [], [], []]\n",
      "\n",
      " Number of edges of the spanning tree, for each component of random graph R (p=0.05):\n",
      "[0, 38, 4, 0, 0, 0, 0, 0]\n",
      "\n",
      " Number of vertices for each component of random graph R (p=0.05):\n",
      "[1, 39, 5, 1, 1, 1, 1, 1]\n"
     ]
    }
   ],
   "source": [
    "print(\"\\n List of edges of the spanning tree, for each component of graph G:\")\n",
    "print([sp.edges() for sp in graph.spanning_forest()])\n",
    "print(\"\\n Number of edges of the spanning tree, for each component of graph G:\")\n",
    "print([len(sp.edges()) for sp in graph.spanning_forest()])\n",
    "print(\"\\n Number of vertices for each component of graph G:\")\n",
    "print([len(c) for c in g_connected_components])\n",
    "\n",
    "\n",
    "print(\"\\n \\n List of edges of the spanning tree, for each component of random graph R (p=0.05):\")\n",
    "print([sp.edges() for sp in random_graph.spanning_forest()])\n",
    "print(\"\\n Number of edges of the spanning tree, for each component of random graph R (p=0.05):\")\n",
    "print([len(sp.edges()) for sp in random_graph.spanning_forest()])\n",
    "print(\"\\n Number of vertices for each component of random graph R (p=0.05):\")\n",
    "print([len(c) for c in rg_connected_components])"
   ]
  },
  {
   "cell_type": "markdown",
   "metadata": {},
   "source": [
    "## 4.1 Importing real data"
   ]
  },
  {
   "cell_type": "code",
   "execution_count": 13,
   "metadata": {
    "collapsed": false
   },
   "outputs": [
    {
     "name": "stdout",
     "output_type": "stream",
     "text": [
      "\n",
      " \n",
      " Graph constructed from zachary-connected.txt :\n",
      "\n",
      " Number of vertices :\n",
      "33\n",
      "\n",
      " Number of edges :\n",
      "78\n",
      "\n",
      " Density:\n",
      "0.147727272727\n",
      "\n",
      " Diameter:\n",
      "5\n",
      "\n",
      " Clustering coefficient:\n",
      "0.154580152672\n",
      "\n",
      " \n",
      " Graph constructed from graph_100n_1000m.txt :\n",
      "\n",
      " Number of vertices :\n",
      "100\n",
      "\n",
      " Number of edges :\n",
      "960\n",
      "\n",
      " Density:\n",
      "0.193939393939\n",
      "\n",
      " Diameter:\n",
      "3\n",
      "\n",
      " Clustering coefficient:\n",
      "0.192757201646\n",
      "\n",
      " \n",
      " Graph constructed from graph_1000n_4000m.txt :\n",
      "\n",
      " Number of vertices :\n",
      "1000\n",
      "\n",
      " Number of edges :\n",
      "3989\n",
      "\n",
      " Density:\n",
      "0.00798598598599\n",
      "\n",
      " Diameter:\n",
      "6\n",
      "\n",
      " Clustering coefficient:\n",
      "0.00699785651242\n"
     ]
    }
   ],
   "source": [
    "# =========================\n",
    "#      IMPORT DATA\n",
    "# =========================\n",
    "\n",
    "\n",
    "def file_to_graph(file_path):\n",
    "    \"\"\" import and parse a text file containing an edge list\n",
    "    then dynamically construct a dictionnary representation of the graph from the edge list\"\"\"\n",
    "    graph_import = Graph({})\n",
    "    with open(file_path, 'r') as document:\n",
    "        for line in document:\n",
    "            vertices = line.split()\n",
    "            if not vertices:  # empty line?\n",
    "                continue\n",
    "            if len(vertices) % 2 == 0:\n",
    "                graph_import.add_vertex(vertices[0])\n",
    "                graph_import.add_vertex(vertices[1])\n",
    "                graph_import.add_edge((vertices[0], vertices[1]))\n",
    "            else:\n",
    "                for v in vertices:\n",
    "                    graph_import.add_vertex(v)\n",
    "                    if v != vertices[0]:\n",
    "                        graph_import.add_edge((vertices[0], v))\n",
    "    return graph_import\n",
    "\n",
    "file_list = ('zachary-connected.txt', 'graph_100n_1000m.txt', 'graph_1000n_4000m.txt')\n",
    "for file_path in file_list:\n",
    "    print(\"\\n \\n Graph constructed from {} :\".format(file_path))\n",
    "    graph = file_to_graph(file_path)\n",
    "    print(\"\\n Number of vertices :\")\n",
    "    print(len(graph.vertices()))\n",
    "    print(\"\\n Number of edges :\")\n",
    "    print(len(graph.edges()))\n",
    "    print(\"\\n Density:\")\n",
    "    print(graph.density())\n",
    "    print(\"\\n Diameter:\")\n",
    "    print(graph.biggest_component_diameter())\n",
    "    print(\"\\n Clustering coefficient:\")\n",
    "    print(graph.global_clustering_coeff())"
   ]
  },
  {
   "cell_type": "markdown",
   "metadata": {},
   "source": [
    "## 4.2 Properties of supplied graphs\n",
    "\n",
    "### Graph constructed from zachary-connected.txt :\n",
    "\n",
    " Number of vertices :\n",
    "33\n",
    "\n",
    " Number of edges :\n",
    "78\n",
    "\n",
    " Density:\n",
    "0.147727272727\n",
    "\n",
    " Diameter:\n",
    "5\n",
    "\n",
    " Clustering coefficient:\n",
    "0.154580152672\n",
    "\n",
    " \n",
    "### Graph constructed from graph_100n_1000m.txt :\n",
    "\n",
    " Number of vertices :\n",
    "100\n",
    "\n",
    " Number of edges :\n",
    "960\n",
    "\n",
    " Density:\n",
    "0.193939393939\n",
    "\n",
    " Diameter:\n",
    "3\n",
    "\n",
    " Clustering coefficient:\n",
    "0.192757201646\n",
    "\n",
    " \n",
    "### Graph constructed from graph_1000n_4000m.txt :\n",
    "\n",
    " Number of vertices :\n",
    "1000\n",
    "\n",
    " Number of edges :\n",
    "3989\n",
    "\n",
    " Density:\n",
    "0.00798598598599\n",
    "\n",
    " Diameter:\n",
    "6\n",
    "\n",
    " Clustering coefficient:\n",
    "0.00699785651242"
   ]
  },
  {
   "cell_type": "code",
   "execution_count": null,
   "metadata": {
    "collapsed": true
   },
   "outputs": [],
   "source": []
  }
 ],
 "metadata": {
  "kernelspec": {
   "display_name": "Python 2",
   "language": "python",
   "name": "python2"
  },
  "language_info": {
   "codemirror_mode": {
    "name": "ipython",
    "version": 2
   },
   "file_extension": ".py",
   "mimetype": "text/x-python",
   "name": "python",
   "nbconvert_exporter": "python",
   "pygments_lexer": "ipython2",
   "version": "2.7.11"
  }
 },
 "nbformat": 4,
 "nbformat_minor": 0
}
