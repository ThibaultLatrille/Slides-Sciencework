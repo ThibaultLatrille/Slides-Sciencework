{
 "cells": [
  {
   "cell_type": "markdown",
   "metadata": {},
   "source": [
    "# Complex network\n",
    "\n",
    "## Course authorities : Karsai / Crespelle / Unicomb\n",
    "\n",
    "### Students : Mascarade Pierre, Latrille Thibault\n",
    "\n",
    "Runs on python 2.x, requires snap.py"
   ]
  },
  {
   "cell_type": "markdown",
   "metadata": {},
   "source": [
    "# Problem Set Three\n",
    "## 1. Introduction to the SNAP graph library\n",
    "### Import SNAP library"
   ]
  },
  {
   "cell_type": "code",
   "execution_count": 1,
   "metadata": {
    "collapsed": false
   },
   "outputs": [
    {
     "name": "stdout",
     "output_type": "stream",
     "text": [
      "SUCCESS, your version of Snap.py is 3.0.2\n"
     ]
    }
   ],
   "source": [
    "import random as rand\n",
    "\n",
    "status = False\n",
    "try:\n",
    "    import snap\n",
    "    version = snap.Version\n",
    "    i = snap.TInt(5)\n",
    "    if i == 5:\n",
    "        status = True\n",
    "except:\n",
    "    pass\n",
    "\n",
    "if status:\n",
    "    print(\"SUCCESS, your version of Snap.py is %s\" % (version))\n",
    "else:\n",
    "    print(\"*** ERROR, no working Snap.py was found on your computer\")\n"
   ]
  },
  {
   "cell_type": "markdown",
   "metadata": {},
   "source": [
    "### Generate undirected Erdos Reyni random graph"
   ]
  },
  {
   "cell_type": "code",
   "execution_count": 2,
   "metadata": {
    "collapsed": true
   },
   "outputs": [],
   "source": [
    "# set up vertices and edges\n",
    "vertices = 10\n",
    "edges = 15\n",
    "u_rndm_graph = snap.GenRndGnm(snap.PUNGraph, vertices, edges)\n",
    "\n",
    "# Draw the graph to a plot, counting vertices\n",
    "snap.DrawGViz(u_rndm_graph, snap.gvlNeato, \"graph_rdm_undirected.png\", \"Undirected Random Graph\", True)\n",
    "\n",
    "# Plot the out degree distrib\n",
    "snap.PlotOutDegDistr(u_rndm_graph, \"graph_rdm_undirected\", \"Undirected graph - out-degree Distribution\")"
   ]
  },
  {
   "cell_type": "markdown",
   "metadata": {},
   "source": [
    "### Compute and print the list of all edges"
   ]
  },
  {
   "cell_type": "code",
   "execution_count": 3,
   "metadata": {
    "collapsed": false,
    "scrolled": true
   },
   "outputs": [
    {
     "name": "stdout",
     "output_type": "stream",
     "text": [
      "edge (0 2)\n",
      "edge (0 3)\n",
      "edge (0 5)\n",
      "edge (1 8)\n",
      "edge (1 9)\n",
      "edge (2 0)\n",
      "edge (2 7)\n",
      "edge (3 0)\n",
      "edge (3 6)\n",
      "edge (3 7)\n",
      "edge (3 8)\n",
      "edge (3 9)\n",
      "edge (4 8)\n",
      "edge (5 0)\n",
      "edge (5 6)\n",
      "edge (6 3)\n",
      "edge (6 5)\n",
      "edge (6 7)\n",
      "edge (7 2)\n",
      "edge (7 3)\n",
      "edge (7 6)\n",
      "edge (7 9)\n",
      "edge (8 1)\n",
      "edge (8 3)\n",
      "edge (8 4)\n",
      "edge (8 9)\n",
      "edge (9 1)\n",
      "edge (9 3)\n",
      "edge (9 7)\n",
      "edge (9 8)\n"
     ]
    }
   ],
   "source": [
    "for vertex_in in u_rndm_graph.Nodes():\n",
    "    for vertex_out_id in vertex_in.GetOutEdges():\n",
    "        print(\"edge (%d %d)\" % (vertex_in.GetId(), vertex_out_id))\n",
    "# Save it to an external file\n",
    "snap.SaveEdgeList(u_rndm_graph, \"Rndm_graph.txt\", \"Save as tab-separated list of edges\")"
   ]
  },
  {
   "cell_type": "markdown",
   "metadata": {},
   "source": [
    "### Compute degree distribution and save it to an external textfile"
   ]
  },
  {
   "cell_type": "code",
   "execution_count": 4,
   "metadata": {
    "collapsed": false
   },
   "outputs": [],
   "source": [
    "degree_vertex_count = snap.TIntPrV()\n",
    "snap.GetOutDegCnt(u_rndm_graph, degree_vertex_count)\n",
    "file1 = open(\"graph_rdm_undirected_degree_distrib.txt\", \"w\")\n",
    "file1.write(\"#----------------------------------\\n\")\n",
    "file1.write(\"#       Degree Distribution        \\n\")\n",
    "file1.write(\"#----------------------------------\\n\")\n",
    "file1.write(\"\\n\")\n",
    "for pairs in degree_vertex_count:\n",
    "     file1.write(\"vertex degree %d: nmbr vertices with such degree %d \\n\" % (pairs.GetVal1(), pairs.GetVal2()))\n",
    "file1.close()\n"
   ]
  },
  {
   "cell_type": "markdown",
   "metadata": {},
   "source": [
    "### Compute the sizes of the connected component and save it to an external file"
   ]
  },
  {
   "cell_type": "code",
   "execution_count": 5,
   "metadata": {
    "collapsed": true
   },
   "outputs": [],
   "source": [
    "Components = snap.TCnComV()\n",
    "snap.GetSccs(u_rndm_graph, Components)\n",
    "file_2 = open(\"graph_rdm_undirected_connected_compo_sizes.txt\", \"w\")\n",
    "file_2.write(\"#----------------------------------\\n\")\n",
    "file_2.write(\"#   Size of Connected Components   \\n\")\n",
    "file_2.write(\"#----------------------------------\\n\")\n",
    "file_2.write(\"\\n\")\n",
    "file_2.write(\"Total number of different components = %d\\n\" % len(Components))\n",
    "file_2.write(\"\\n\")\n",
    "for idx, component in enumerate(Components):\n",
    "        file_2.write(\"Size of component #%d : %d\\n\" % (idx, len(component)))\n",
    "file_2.close()"
   ]
  },
  {
   "cell_type": "markdown",
   "metadata": {},
   "source": [
    "### Adding more edges until the graph is connected"
   ]
  },
  {
   "cell_type": "code",
   "execution_count": 6,
   "metadata": {
    "collapsed": false,
    "scrolled": true
   },
   "outputs": [
    {
     "name": "stdout",
     "output_type": "stream",
     "text": [
      "Now graph is fully connected\n"
     ]
    }
   ],
   "source": [
    "while not snap.IsConnected(u_rndm_graph):\n",
    "    snap.GetSccs(u_rndm_graph, Components)\n",
    "    in_component = rand.choice(Components)\n",
    "    in_vertex = rand.choice(in_component)\n",
    "    out_vertex = rand.choice(rand.choice(filter(lambda x: x != in_component, Components)))\n",
    "    u_rndm_graph.AddEdge(in_vertex, out_vertex)\n",
    "print(\"Now graph is fully connected\")"
   ]
  },
  {
   "cell_type": "markdown",
   "metadata": {},
   "source": [
    "### Output the average of the shortest paths for a connected graph"
   ]
  },
  {
   "cell_type": "code",
   "execution_count": 7,
   "metadata": {
    "collapsed": false
   },
   "outputs": [
    {
     "name": "stdout",
     "output_type": "stream",
     "text": [
      "The average shortest path is:\n",
      "\n",
      "2.0\n"
     ]
    }
   ],
   "source": [
    "shortest_paths = []\n",
    "\n",
    "for v_in in u_rndm_graph.Nodes():\n",
    "    NIdToDistH = snap.TIntH()\n",
    "    snap.GetShortPath(u_rndm_graph, v_in.GetId(), NIdToDistH)\n",
    "    shortest_paths.extend([NIdToDistH[vertex] for vertex in NIdToDistH if vertex != v_in.GetId()])\n",
    "\n",
    "avg_shortest_paths = float(sum(shortest_paths)) / len(shortest_paths)\n",
    "print(\"The average shortest path is:\\n\")\n",
    "print(avg_shortest_paths)"
   ]
  },
  {
   "cell_type": "markdown",
   "metadata": {},
   "source": [
    "### Write the node clustering coefficients in a file"
   ]
  },
  {
   "cell_type": "code",
   "execution_count": 8,
   "metadata": {
    "collapsed": false
   },
   "outputs": [
    {
     "name": "stdout",
     "output_type": "stream",
     "text": [
      "The average node clustering coefficient is:\n",
      "\n",
      "0.28\n"
     ]
    }
   ],
   "source": [
    "# Output the node clustering coefficients\n",
    "NIdCCfH = snap.TIntFltH()\n",
    "snap.GetNodeClustCf(u_rndm_graph, NIdCCfH)\n",
    "file_3 = open(\"graph_rdm_undirected_node_clustering_coefficients.txt\", \"w\")\n",
    "file_3.write(\"#----------------------------------\\n\")\n",
    "file_3.write(\"#   node clustering coefficients   \\n\")\n",
    "file_3.write(\"#----------------------------------\\n\")\n",
    "for item in NIdCCfH:\n",
    "    file_3.write(\"%d: %f \\n\" % (item, NIdCCfH[item]))\n",
    "file_3.close()\n",
    "\n",
    "avg_clust_coef = sum([NIdCCfH[item] for item in NIdCCfH])/len(NIdCCfH)\n",
    "print(\"The average node clustering coefficient is:\\n\")\n",
    "print(avg_clust_coef)"
   ]
  },
  {
   "cell_type": "code",
   "execution_count": null,
   "metadata": {
    "collapsed": true
   },
   "outputs": [],
   "source": []
  }
 ],
 "metadata": {
  "kernelspec": {
   "display_name": "Python 2",
   "language": "python",
   "name": "python2"
  },
  "language_info": {
   "codemirror_mode": {
    "name": "ipython",
    "version": 2
   },
   "file_extension": ".py",
   "mimetype": "text/x-python",
   "name": "python",
   "nbconvert_exporter": "python",
   "pygments_lexer": "ipython2",
   "version": "2.7.11"
  }
 },
 "nbformat": 4,
 "nbformat_minor": 0
}
